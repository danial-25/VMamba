{
 "cells": [
  {
   "cell_type": "code",
   "execution_count": 10,
   "metadata": {},
   "outputs": [
    {
     "name": "stdout",
     "output_type": "stream",
     "text": [
      "yooo\n",
      "yoo\n"
     ]
    }
   ],
   "source": [
    "from classification.models import vmamba\n",
    "ah= vmamba.VSSBlock(hidden_dim = 32)"
   ]
  },
  {
   "cell_type": "code",
   "execution_count": 11,
   "metadata": {},
   "outputs": [
    {
     "data": {
      "text/plain": [
       "<bound method VSSBlock.forward of VSSBlock(\n",
       "  (norm): LayerNorm((32,), eps=1e-05, elementwise_affine=True)\n",
       "  (op): SS2D(\n",
       "    (out_norm): LayerNorm((64,), eps=1e-05, elementwise_affine=True)\n",
       "    (in_proj): Linear(in_features=32, out_features=128, bias=False)\n",
       "    (act): SiLU()\n",
       "    (conv2d): Conv2d(64, 64, kernel_size=(3, 3), stride=(1, 1), padding=(1, 1), groups=64)\n",
       "    (out_act): Identity()\n",
       "    (out_proj): Linear(in_features=64, out_features=32, bias=False)\n",
       "    (dropout): Identity()\n",
       "  )\n",
       "  (drop_path): timm.DropPath(0)\n",
       "  (norm2): LayerNorm((32,), eps=1e-05, elementwise_affine=True)\n",
       "  (mlp): Mlp(\n",
       "    (fc1): Linear(in_features=32, out_features=128, bias=True)\n",
       "    (act): GELU(approximate='none')\n",
       "    (fc2): Linear(in_features=128, out_features=32, bias=True)\n",
       "    (drop): Dropout(p=0.0, inplace=False)\n",
       "  )\n",
       ")>"
      ]
     },
     "execution_count": 11,
     "metadata": {},
     "output_type": "execute_result"
    }
   ],
   "source": [
    "ah.forward"
   ]
  },
  {
   "cell_type": "code",
   "execution_count": 13,
   "metadata": {},
   "outputs": [
    {
     "name": "stdout",
     "output_type": "stream",
     "text": [
      "yo\n",
      "cross2d\n"
     ]
    }
   ],
   "source": [
    "import torch\n",
    "ah.to('cuda')\n",
    "a = torch.randn(8, 2, 2, 32)\n",
    "b= ah(a.to('cuda'))"
   ]
  },
  {
   "cell_type": "code",
   "execution_count": 9,
   "metadata": {},
   "outputs": [
    {
     "data": {
      "text/plain": [
       "torch.Size([8, 2, 2, 32])"
      ]
     },
     "execution_count": 9,
     "metadata": {},
     "output_type": "execute_result"
    }
   ],
   "source": [
    "b.shape"
   ]
  }
 ],
 "metadata": {
  "kernelspec": {
   "display_name": "Python 3",
   "language": "python",
   "name": "python3"
  },
  "language_info": {
   "codemirror_mode": {
    "name": "ipython",
    "version": 3
   },
   "file_extension": ".py",
   "mimetype": "text/x-python",
   "name": "python",
   "nbconvert_exporter": "python",
   "pygments_lexer": "ipython3",
   "version": "3.10.12"
  }
 },
 "nbformat": 4,
 "nbformat_minor": 2
}
